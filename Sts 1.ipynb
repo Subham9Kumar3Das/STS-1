{
 "cells": [
  {
   "cell_type": "markdown",
   "id": "8cb3b2a3-5d43-468b-bb26-4fd7fa354591",
   "metadata": {},
   "source": [
    "* Q1. What is the Probability density function?\n",
    "* Q2. What are the types of Probability distribution?\n",
    "* Q3. Write a Python function to calculate the probability density function of a normal distribution with\n",
    "given mean and standard deviation at a given point.\n",
    "* Q4. What are the properties of Binomial distribution? Give two examples of events where binomial\n",
    "distribution can be applied.\n",
    "* Q5. Generate a random sample of size 1000 from a binomial distribution with probability of success 0.4\n",
    "and plot a histogram of the results using matplotlib.\n",
    "* Q6. Write a Python function to calculate the cumulative distribution function of a Poisson distribution\n",
    "with given mean at a given point.\n",
    "* Q7. How Binomial distribution different from Poisson distribution?\n",
    "* Q8. Generate a random sample of size 1000 from a Poisson distribution with mean 5 and calculate the\n",
    "sample mean and variance.\n",
    "* Q9. How mean and variance are related in Binomial distribution and Poisson distribution?\n",
    "* Q10. In normal distribution with respect to mean position, where does the least frequent data appear?"
   ]
  },
  {
   "cell_type": "markdown",
   "id": "96deb3d4-d6a6-4efa-9eb0-068d992f44dc",
   "metadata": {},
   "source": [
    "## Q1."
   ]
  },
  {
   "cell_type": "markdown",
   "id": "fd367721-b3a3-4838-a42c-b09a1eb0c0a6",
   "metadata": {},
   "source": [
    "Pdf is a function that is defined on a set of continous random variable."
   ]
  },
  {
   "cell_type": "markdown",
   "id": "c8c7f825-3753-45fe-9c8b-d1aa1bc3245b",
   "metadata": {},
   "source": [
    "## Q2."
   ]
  },
  {
   "cell_type": "markdown",
   "id": "3a989a13-9ba8-4584-bc2a-23d0fce9c9d7",
   "metadata": {},
   "source": [
    "* Pmf:-\n",
    "Binomial Distribution,\n",
    "Poisson Distribution\n",
    "* Pdf:-\n",
    "Normal Distribution,\n",
    "Exponential Distribution,\n",
    "Uniform Distribution"
   ]
  },
  {
   "cell_type": "markdown",
   "id": "fabaccd7-35ea-4bf4-90b5-47e8eec5eb72",
   "metadata": {},
   "source": [
    "## Q.3"
   ]
  },
  {
   "cell_type": "markdown",
   "id": "b3d30ef1-6a1a-4986-901b-b9e2fad22755",
   "metadata": {},
   "source": [
    "import numpy as np\n",
    "import scipy.stats as stats\n",
    "\n",
    "def normal_pdf(x, mean, std_dev):\n",
    "    return stats.norm.pdf(x, mean, std_dev)\n",
    "\n",
    "# Example usage:\n",
    "mean = 0\n",
    "std_dev = 1\n",
    "x_point = 1\n",
    "pdf_value = normal_pdf(x_point, mean, std_dev)\n",
    "print(f\"PDF at x={x_point}: {pdf_value}\")\n",
    "# We use scipy module to find normal distribution."
   ]
  },
  {
   "cell_type": "markdown",
   "id": "21f59a9d-d6a8-44a8-afc0-4e6356140add",
   "metadata": {},
   "source": [
    "## Q.4"
   ]
  },
  {
   "cell_type": "markdown",
   "id": "9ae65d38-d077-4c93-8604-4edec1ba45c9",
   "metadata": {},
   "source": [
    "Properties of Binomial Distribution:\n",
    "\n",
    "* Consists of a fixed number of trials (n).\n",
    "* Each trial has only two possible outcomes: success or failure.\n",
    "* The probability of success (p) is constant for each trial.\n",
    "* Trials are independent of each other.\n",
    "\n",
    "Examples:\n",
    "\n",
    "* Flipping a fair coin (success = heads, failure = tails).\n",
    "* Testing electronic components for defects (success = defect, failure = non-defect)."
   ]
  },
  {
   "cell_type": "markdown",
   "id": "d8f1f995-a984-405a-a045-2ecf3915aef8",
   "metadata": {},
   "source": [
    "## Q.5"
   ]
  },
  {
   "cell_type": "code",
   "execution_count": 5,
   "id": "ccf6f0eb-9578-467e-8bc6-8a510cd8644c",
   "metadata": {},
   "outputs": [
    {
     "data": {
      "image/png": "[encoded data removed]",
      "text/plain": [
       "<Figure size 640x480 with 1 Axes>"
      ]
     },
     "metadata": {},
     "output_type": "display_data"
    }
   ],
   "source": [
    "import matplotlib.pyplot as plt\n",
    "import numpy as np\n",
    "\n",
    "# Generate random sample\n",
    "sample_size = 1000\n",
    "probability_of_success = 0.4\n",
    "binomial_sample = np.random.binomial(1, probability_of_success, sample_size)\n",
    "\n",
    "# Plot histogram\n",
    "plt.hist(binomial_sample, bins=[0, 1, 2], align='left', rwidth=0.8)\n",
    "plt.title(\"Binomial Distribution\")\n",
    "plt.xlabel(\"Outcome\")\n",
    "plt.ylabel(\"Frequency\")\n",
    "plt.show()\n"
   ]
  },
  {
   "cell_type": "markdown",
   "id": "95d4e5b4-e027-4039-bacf-90ecc26c6d3a",
   "metadata": {},
   "source": [
    "## Q.6"
   ]
  },
  {
   "cell_type": "code",
   "execution_count": 6,
   "id": "23a401f6-a824-466c-a3c7-b36fb6f6a932",
   "metadata": {},
   "outputs": [
    {
     "name": "stdout",
     "output_type": "stream",
     "text": [
      "CDF at x=2: 0.42319008112684364\n"
     ]
    }
   ],
   "source": [
    "import scipy.stats as stats\n",
    "\n",
    "def poisson_cdf(x, mean):\n",
    "    return stats.poisson.cdf(x, mean)\n",
    "\n",
    "# Example usage:\n",
    "mean_poisson = 3\n",
    "x_point_poisson = 2\n",
    "cdf_value_poisson = poisson_cdf(x_point_poisson, mean_poisson)\n",
    "print(f\"CDF at x={x_point_poisson}: {cdf_value_poisson}\")\n"
   ]
  },
  {
   "cell_type": "markdown",
   "id": "0b5471b2-de64-4423-a3c8-ae1149d72616",
   "metadata": {},
   "source": [
    "## Q.7"
   ]
  },
  {
   "cell_type": "markdown",
   "id": "33e46556-4ab6-4eef-8e63-df272ba1ed8a",
   "metadata": {},
   "source": [
    "Binomial distribution is used when there are a fixed number of trials, each with two possible outcomes. Poisson distribution is used when the number of events that can occur in a fixed interval of time or space is known, but the exact timing or location of events is unpredictable."
   ]
  },
  {
   "cell_type": "markdown",
   "id": "332a580e-508d-4700-bfd8-0e83688bfaa8",
   "metadata": {},
   "source": [
    "## Q.8"
   ]
  },
  {
   "cell_type": "code",
   "execution_count": 7,
   "id": "37d09858-dcab-4f92-a64c-d284fb6ce737",
   "metadata": {},
   "outputs": [
    {
     "name": "stdout",
     "output_type": "stream",
     "text": [
      "Sample Mean: 5.032\n",
      "Sample Variance: 5.108975999999999\n"
     ]
    }
   ],
   "source": [
    "import numpy as np\n",
    "\n",
    "# Generate random sample\n",
    "sample_size_poisson = 1000\n",
    "mean_poisson = 5\n",
    "poisson_sample = np.random.poisson(mean_poisson, sample_size_poisson)\n",
    "\n",
    "# Calculate sample mean and variance\n",
    "sample_mean = np.mean(poisson_sample)\n",
    "sample_variance = np.var(poisson_sample)\n",
    "\n",
    "print(f\"Sample Mean: {sample_mean}\")\n",
    "print(f\"Sample Variance: {sample_variance}\")\n"
   ]
  },
  {
   "cell_type": "markdown",
   "id": "8343bab4-7c49-4a8b-bb9a-b23a61e909ae",
   "metadata": {},
   "source": [
    "## Q.9"
   ]
  },
  {
   "cell_type": "markdown",
   "id": "0eb92fa7-8929-4196-b449-3eac8335703d",
   "metadata": {},
   "source": [
    "In a Binomial distribution, the mean (μ) is equal to the product of the number of trials (n) and the probability of success (p), and the variance (σ^2) is equal to n * p * (1 - p).\n",
    "In a Poisson distribution, both the mean (μ) and variance (σ^2) are equal and are given by the parameter λ (lambda)."
   ]
  },
  {
   "cell_type": "markdown",
   "id": "2b6d21ac-1376-40ff-9340-18297cc86aa3",
   "metadata": {},
   "source": [
    "## Q.10"
   ]
  },
  {
   "cell_type": "markdown",
   "id": "e4b4e13e-6a12-47d4-84f2-c304e87403cb",
   "metadata": {},
   "source": [
    "In a normal distribution, the least frequent data appears in the tails (extreme values) of the distribution, farthest from the mean."
   ]
  },
  {
   "cell_type": "code",
   "execution_count": null,
   "id": "f224a5ad-7223-4012-a168-931d8214b6e6",
   "metadata": {},
   "outputs": [],
   "source": []
  }
 ],
 "metadata": {
  "kernelspec": {
   "display_name": "Python 3 (ipykernel)",
   "language": "python",
   "name": "python3"
  },
  "language_info": {
   "codemirror_mode": {
    "name": "ipython",
    "version": 3
   },
   "file_extension": ".py",
   "mimetype": "text/x-python",
   "name": "python",
   "nbconvert_exporter": "python",
   "pygments_lexer": "ipython3",
   "version": "3.10.8"
  }
 },
 "nbformat": 4,
 "nbformat_minor": 5
}
